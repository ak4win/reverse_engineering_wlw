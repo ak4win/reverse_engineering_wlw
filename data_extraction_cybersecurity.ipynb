{
 "cells": [
  {
   "cell_type": "code",
   "execution_count": 11,
   "source": [
    "import pandas as pd\n",
    "\n",
    "data = pd.read_json(\"/Users/alexanderkubel/Coding/Python/reverse_engineering/WerLiefertWas/data.json\")\n",
    "\n",
    "\n",
    "data = data[]"
   ],
   "outputs": [
    {
     "output_type": "execute_result",
     "data": {
      "text/plain": [
       "0      1920728\n",
       "1      1781753\n",
       "2       572184\n",
       "3      1843724\n",
       "4       576158\n",
       "        ...   \n",
       "119    1252895\n",
       "120    1841503\n",
       "121    1872073\n",
       "122    1579417\n",
       "123    1507453\n",
       "Name: id, Length: 124, dtype: int64"
      ]
     },
     "metadata": {},
     "execution_count": 11
    }
   ],
   "metadata": {}
  },
  {
   "cell_type": "code",
   "execution_count": null,
   "source": [],
   "outputs": [],
   "metadata": {}
  }
 ],
 "metadata": {
  "interpreter": {
   "hash": "3ea967af970e33c47adc80b9477d1bc6b73d5776de2cb295a7bf26b008d26477"
  },
  "kernelspec": {
   "display_name": "Python 3 (ipykernel)",
   "language": "python",
   "name": "python3"
  },
  "language_info": {
   "codemirror_mode": {
    "name": "ipython",
    "version": 3
   },
   "file_extension": ".py",
   "mimetype": "text/x-python",
   "name": "python",
   "nbconvert_exporter": "python",
   "pygments_lexer": "ipython3",
   "version": "3.9.5"
  }
 },
 "nbformat": 4,
 "nbformat_minor": 2
}